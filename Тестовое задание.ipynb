{
 "cells": [
  {
   "cell_type": "code",
   "execution_count": 3,
   "id": "45bbd2c4-be5e-4934-b503-a85e8e873984",
   "metadata": {},
   "outputs": [
    {
     "name": "stdout",
     "output_type": "stream",
     "text": [
      "MAU (уникальных пользователей в ноябре): 7639\n"
     ]
    }
   ],
   "source": [
    "import pandas as pd\n",
    "\n",
    "df = pd.read_csv(\"audience.csv\")\n",
    "\n",
    "mau = df['user_id'].nunique()\n",
    "print(\"MAU (уникальных пользователей в ноябре):\", mau)\n"
   ]
  },
  {
   "cell_type": "code",
   "execution_count": 4,
   "id": "218e2f9d-5577-4cb5-b0a4-4bbcec97802d",
   "metadata": {},
   "outputs": [
    {
     "name": "stdout",
     "output_type": "stream",
     "text": [
      "date\n",
      "2023-11-01    623\n",
      "2023-11-02    649\n",
      "2023-11-03    573\n",
      "2023-11-04    343\n",
      "2023-11-05    350\n",
      "2023-11-06    660\n",
      "2023-11-07    629\n",
      "2023-11-08    600\n",
      "2023-11-09    661\n",
      "2023-11-10    583\n",
      "2023-11-11    354\n",
      "2023-11-12    377\n",
      "2023-11-13    646\n",
      "2023-11-14    687\n",
      "2023-11-15    690\n",
      "2023-11-16    639\n",
      "2023-11-17    585\n",
      "2023-11-18    412\n",
      "2023-11-19    378\n",
      "2023-11-20    711\n",
      "2023-11-21    651\n",
      "2023-11-22    608\n",
      "2023-11-23    632\n",
      "2023-11-24    595\n",
      "2023-11-25    366\n",
      "2023-11-26    372\n",
      "2023-11-27    589\n",
      "2023-11-28    610\n",
      "2023-11-29    621\n",
      "2023-11-30    620\n",
      "Name: user_id, dtype: int64\n",
      "Средний DAU за ноябрь: 560.4666666666667\n"
     ]
    }
   ],
   "source": [
    "dau_per_day = df.groupby('date')['user_id'].nunique()\n",
    "\n",
    "print(dau_per_day)\n",
    "\n",
    "average_dau = dau_per_day.mean()\n",
    "print(\"Средний DAU за ноябрь:\", average_dau)"
   ]
  },
  {
   "cell_type": "code",
   "execution_count": 7,
   "id": "2d1eccd8-246b-4b0c-a6cd-c7414b709277",
   "metadata": {},
   "outputs": [
    {
     "name": "stdout",
     "output_type": "stream",
     "text": [
      "Index(['date', 'user_id', 'view_adverts'], dtype='object')\n"
     ]
    }
   ],
   "source": [
    "print(df.columns)\n"
   ]
  },
  {
   "cell_type": "code",
   "execution_count": 8,
   "id": "8b9381d5-f662-448a-80c6-2137c9ba0003",
   "metadata": {},
   "outputs": [
    {
     "name": "stdout",
     "output_type": "stream",
     "text": [
      "Day 1 Retention: 26.6%\n"
     ]
    }
   ],
   "source": [
    "df['date'] = pd.to_datetime(df['date'])\n",
    "\n",
    "new_users = df[df['date'] == '2023-11-01']['user_id'].unique()\n",
    "\n",
    "returned_users = df[(df['date'] == '2023-11-02') & (df['user_id'].isin(new_users))]['user_id'].nunique()\n",
    "\n",
    "# Retention\n",
    "retention = returned_users / len(new_users) * 100\n",
    "print(f\"Day 1 Retention: {retention:.1f}%\")\n"
   ]
  },
  {
   "cell_type": "code",
   "execution_count": 9,
   "id": "ba264167-3c6b-4a79-a755-fed4f0f7c56c",
   "metadata": {},
   "outputs": [
    {
     "name": "stdout",
     "output_type": "stream",
     "text": [
      "Конверсия в просмотр объявления: 46.31%\n"
     ]
    }
   ],
   "source": [
    "total_users = df['user_id'].nunique()\n",
    "\n",
    "users_with_views = df[df['view_adverts'] > 0]['user_id'].nunique()\n",
    "\n",
    "conversion = (users_with_views / total_users) * 100\n",
    "\n",
    "print(f'Конверсия в просмотр объявления: {conversion:.2f}%')"
   ]
  },
  {
   "cell_type": "code",
   "execution_count": 12,
   "id": "21c8a890-6e50-4462-825b-22f9d8caa8aa",
   "metadata": {},
   "outputs": [
    {
     "name": "stdout",
     "output_type": "stream",
     "text": [
      "Среднее количество просмотров на активного пользователя: 6.2\n"
     ]
    }
   ],
   "source": [
    "active_users_df = df[df['view_adverts'] > 0]\n",
    "\n",
    "active_users_count = active_users_df['user_id'].nunique()\n",
    "\n",
    "total_views = active_users_df['view_adverts'].sum()\n",
    "\n",
    "average_views = total_views / active_users_count\n",
    "\n",
    "print(f'Среднее количество просмотров на активного пользователя: {average_views:.1f}')"
   ]
  },
  {
   "cell_type": "code",
   "execution_count": 13,
   "id": "4daae3d3-5cf9-4c36-8d0c-f4a04d7636c9",
   "metadata": {},
   "outputs": [
    {
     "name": "stdout",
     "output_type": "stream",
     "text": [
      "NPS: 35%\n"
     ]
    }
   ],
   "source": [
    "total_users = 2000\n",
    "promoters = 1200\n",
    "passives = 300\n",
    "detractors = 500\n",
    "\n",
    "promoters_percent = (promoters / total_users) * 100\n",
    "detractors_percent = (detractors / total_users) * 100\n",
    "\n",
    "# NPS = % Promoters - % Detractors\n",
    "nps = promoters_percent - detractors_percent\n",
    "\n",
    "print(f'NPS: {nps:.0f}%')\n"
   ]
  },
  {
   "cell_type": "code",
   "execution_count": 17,
   "id": "171a684c-9958-4136-8daf-c98b47fb168a",
   "metadata": {},
   "outputs": [
    {
     "name": "stdout",
     "output_type": "stream",
     "text": [
      "   experiment_num experiment_group   user_id  revenue\n",
      "0               1             test     38456      520\n",
      "1               1          control  13125924      806\n",
      "2               1          control   9761984        0\n",
      "3               1             test  11387012      208\n",
      "4               1             test  18319648      104\n"
     ]
    }
   ],
   "source": [
    "import pandas as pd\n",
    "\n",
    "df_ab_test = pd.read_excel('audience.xlsx', sheet_name=1)\n",
    "\n",
    "print(df_ab_test.head())\n"
   ]
  },
  {
   "cell_type": "code",
   "execution_count": 18,
   "id": "ba9d3afd-65d9-4268-a0be-7219bb3b601a",
   "metadata": {},
   "outputs": [
    {
     "name": "stdout",
     "output_type": "stream",
     "text": [
      "Эксперимент 1:\n",
      "ARPU Control: 722.46\n",
      "ARPU Test: 665.74\n",
      "p-value: 0.6890\n",
      "\n",
      "Эксперимент 2:\n",
      "ARPU Control: 704.65\n",
      "ARPU Test: 332.93\n",
      "p-value: 0.0011\n",
      "\n",
      "Эксперимент 3:\n",
      "ARPU Control: 663.21\n",
      "ARPU Test: 998.67\n",
      "p-value: 0.0603\n",
      "\n"
     ]
    }
   ],
   "source": [
    "from scipy.stats import ttest_ind\n",
    "\n",
    "for exp in df_ab_test['experiment_num'].unique():\n",
    "    exp_data = df_ab_test[df_ab_test['experiment_num'] == exp]\n",
    "    control = exp_data[exp_data['experiment_group'] == 'control']['revenue']\n",
    "    test = exp_data[exp_data['experiment_group'] == 'test']['revenue']\n",
    "    \n",
    "    arpu_control = control.mean()\n",
    "    arpu_test = test.mean()\n",
    "\n",
    "    stat, p_value = ttest_ind(test, control, equal_var=False)\n",
    "\n",
    "    print(f'Эксперимент {exp}:')\n",
    "    print(f'ARPU Control: {arpu_control:.2f}')\n",
    "    print(f'ARPU Test: {arpu_test:.2f}')\n",
    "    print(f'p-value: {p_value:.4f}\\n')\n"
   ]
  },
  {
   "cell_type": "code",
   "execution_count": 19,
   "id": "23ea8e6b-1462-427c-9f19-78cbc1130b4a",
   "metadata": {},
   "outputs": [
    {
     "name": "stdout",
     "output_type": "stream",
     "text": [
      "Средний доход на пользователя (ARPU): 156.5\n"
     ]
    }
   ],
   "source": [
    "import pandas as pd\n",
    "\n",
    "df_listers = pd.read_excel('audience.xlsx', sheet_name=2)\n",
    "\n",
    "total_revenue = df_listers['revenue'].sum()\n",
    "\n",
    "total_users = df_listers['user_id'].nunique()\n",
    "\n",
    "arpu = total_revenue / total_users\n",
    "\n",
    "print(f'Средний доход на пользователя (ARPU): {arpu:.1f}')"
   ]
  },
  {
   "cell_type": "code",
   "execution_count": 20,
   "id": "e757986e-9b2d-4cae-bb3a-38e62a2c0c0f",
   "metadata": {},
   "outputs": [
    {
     "name": "stdout",
     "output_type": "stream",
     "text": [
      "Медиана возраста: 28.00\n"
     ]
    }
   ],
   "source": [
    "median_age = df_listers['age'].median()\n",
    "\n",
    "print(f'Медиана возраста: {median_age:.2f}')"
   ]
  },
  {
   "cell_type": "code",
   "execution_count": 21,
   "id": "fdda7694-8859-4620-9b2f-566475998a53",
   "metadata": {},
   "outputs": [
    {
     "name": "stdout",
     "output_type": "stream",
     "text": [
      "Z-статистика: -2.1046\n",
      "p-value: 0.0353\n",
      "Результат статистически значим. Можно рекомендовать внедрение изменений.\n"
     ]
    }
   ],
   "source": [
    "import statsmodels.api as sm\n",
    "\n",
    "visitors_A = 100047501\n",
    "payments_A = 1003\n",
    "\n",
    "visitors_B = 100001055\n",
    "payments_B = 1099\n",
    "\n",
    "successes = [payments_A, payments_B]\n",
    "observations = [visitors_A, visitors_B]\n",
    "\n",
    "z_stat, p_value = sm.stats.proportions_ztest(successes, observations)\n",
    "\n",
    "print(f'Z-статистика: {z_stat:.4f}')\n",
    "print(f'p-value: {p_value:.4f}')\n",
    "\n",
    "if p_value < 0.05:\n",
    "    print('Результат статистически значим. Можно рекомендовать внедрение изменений.')\n",
    "else:\n",
    "    print('Различие не является статистически значимым. Внедрять изменения не рекомендуется.')\n"
   ]
  },
  {
   "cell_type": "code",
   "execution_count": null,
   "id": "f7339aa0-7507-4d32-be59-c5adee9d2968",
   "metadata": {},
   "outputs": [],
   "source": []
  }
 ],
 "metadata": {
  "kernelspec": {
   "display_name": "Python 3 (ipykernel)",
   "language": "python",
   "name": "python3"
  },
  "language_info": {
   "codemirror_mode": {
    "name": "ipython",
    "version": 3
   },
   "file_extension": ".py",
   "mimetype": "text/x-python",
   "name": "python",
   "nbconvert_exporter": "python",
   "pygments_lexer": "ipython3",
   "version": "3.12.7"
  }
 },
 "nbformat": 4,
 "nbformat_minor": 5
}
